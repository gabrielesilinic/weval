{
 "cells": [
  {
   "cell_type": "code",
   "execution_count": null,
   "metadata": {},
   "outputs": [],
   "source": [
    "import random\n",
    "\n",
    "def generate_complex_expression(depth, width):\n",
    "    # Safe templates for generating valid expressions, focusing on avoiding invalid operations\n",
    "    base_templates = [\n",
    "        \"1\",                          # Simple identity for multiplication and power\n",
    "        \"1.0\",                        # Floating point identity\n",
    "        \"((x + x) / 2)\",              # General form to ensure division is safe\n",
    "        \"((x - x) + 1)\",              # Using subtraction but ensuring result is always 1\n",
    "        \"(x ** 0)\",                   # Power operations simplified to 1\n",
    "    ]\n",
    "    \n",
    "    # Replace x with a chosen safe expression recursively\n",
    "    def instantiate_template(template, current_depth):\n",
    "        if 'x' in template:\n",
    "            return template.replace('x', create_expression(current_depth - 1))\n",
    "        return template\n",
    "\n",
    "    # Randomly combine two expressions with an operator\n",
    "    def combine(expr1, expr2):\n",
    "        operators = [\"+\", \"*\", \"**\"]  # Only safe operators included for combination\n",
    "        chosen_operator = random.choice(operators)\n",
    "        \n",
    "        return f\"({expr1} {chosen_operator} {expr2})\"\n",
    "\n",
    "    # Recursively create complex expressions based on depth and width\n",
    "    def create_expression(current_depth):\n",
    "        if current_depth == 0:\n",
    "            # Base case: Choose a simple numeric value or a simple expression\n",
    "            return random.choice(['1', '1.0', '2', '2.0'])  # Keeping it simple and valid\n",
    "        else:\n",
    "            # Pick a template and instantiate it\n",
    "            template = random.choice(base_templates)\n",
    "            instantiated_template = instantiate_template(template, current_depth)\n",
    "            expr = instantiated_template\n",
    "            \n",
    "            for _ in range(random.randint(1, width)):\n",
    "                next_expr = create_expression(current_depth - 1)\n",
    "                expr = combine(expr, next_expr)\n",
    "            return expr\n",
    "    \n",
    "    # Start the recursive process\n",
    "    return create_expression(depth)\n",
    "\n"
   ]
  },
  {
   "cell_type": "code",
   "execution_count": null,
   "metadata": {},
   "outputs": [],
   "source": [
    "\n",
    "depth = 6\n",
    "width = 3\n",
    "complex_expression = generate_complex_expression(depth, width)\n",
    "print(complex_expression)"
   ]
  }
 ],
 "metadata": {
  "kernelspec": {
   "display_name": "Python 3",
   "language": "python",
   "name": "python3"
  },
  "language_info": {
   "codemirror_mode": {
    "name": "ipython",
    "version": 3
   },
   "file_extension": ".py",
   "mimetype": "text/x-python",
   "name": "python",
   "nbconvert_exporter": "python",
   "pygments_lexer": "ipython3",
   "version": "3.11.4"
  }
 },
 "nbformat": 4,
 "nbformat_minor": 2
}
